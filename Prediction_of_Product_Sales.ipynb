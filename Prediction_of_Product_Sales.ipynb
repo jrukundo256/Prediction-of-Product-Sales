{
  "nbformat": 4,
  "nbformat_minor": 0,
  "metadata": {
    "colab": {
      "provenance": [],
      "authorship_tag": "ABX9TyPAgM7+pWHs2Uk3eOON3j70"
    },
    "kernelspec": {
      "name": "python3",
      "display_name": "Python 3"
    },
    "language_info": {
      "name": "python"
    }
  },
  "cells": [
    {
      "cell_type": "markdown",
      "source": [
        "# Prediction of Product Sales\n",
        "- Author: Jonathan Rukundo\n",
        "\n"
      ],
      "metadata": {
        "id": "RwDaVoBpycNR"
      }
    },
    {
      "cell_type": "markdown",
      "source": [
        "## Project Overview"
      ],
      "metadata": {
        "id": "wN4dwAcwDFpf"
      }
    },
    {
      "cell_type": "markdown",
      "source": [],
      "metadata": {
        "id": "DOZiPJ7rD0Hq"
      }
    },
    {
      "cell_type": "markdown",
      "source": [
        "## Load and Inspect Data"
      ],
      "metadata": {
        "id": "rgbxDrXKDKVB"
      }
    },
    {
      "cell_type": "code",
      "source": [],
      "metadata": {
        "id": "4HOM31ysD1Iq"
      },
      "execution_count": null,
      "outputs": []
    },
    {
      "cell_type": "markdown",
      "source": [
        "## Clean Data"
      ],
      "metadata": {
        "id": "m53qDLbUDOx-"
      }
    },
    {
      "cell_type": "code",
      "source": [],
      "metadata": {
        "id": "f9idsJnPD1vV"
      },
      "execution_count": null,
      "outputs": []
    },
    {
      "cell_type": "markdown",
      "source": [
        "## Exploratory Data Analysis\n",
        "\n"
      ],
      "metadata": {
        "id": "qO6TvD3lDQhf"
      }
    },
    {
      "cell_type": "code",
      "source": [],
      "metadata": {
        "id": "8rh3lgh7D2WN"
      },
      "execution_count": null,
      "outputs": []
    },
    {
      "cell_type": "markdown",
      "source": [
        "## Feature Inspection\n"
      ],
      "metadata": {
        "id": "7--awEJuDR5m"
      }
    },
    {
      "cell_type": "code",
      "source": [],
      "metadata": {
        "id": "38JIOTQaD257"
      },
      "execution_count": null,
      "outputs": []
    }
  ]
}